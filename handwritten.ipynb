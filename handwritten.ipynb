{
  "cells": [
    {
      "cell_type": "code",
      "execution_count": null,
      "metadata": {
        "colab": {
          "base_uri": "https://localhost:8080/"
        },
        "id": "Gq9amPqebgLT",
        "outputId": "503f30cf-90e5-4338-e8ce-f028110645f0"
      },
      "outputs": [
        {
          "name": "stdout",
          "output_type": "stream",
          "text": [
            "Mounted at /content/drive\n"
          ]
        }
      ],
      "source": [
        "from google.colab import drive\n",
        "drive.mount('/content/drive')"
      ]
    },
    {
      "cell_type": "code",
      "execution_count": null,
      "metadata": {
        "id": "_mtIuBDDSOzh"
      },
      "outputs": [],
      "source": [
        "import numpy as np\n",
        "import pandas as pd\n",
        "import matplotlib.pyplot as plt\n",
        "from keras.utils import to_categorical\n",
        "from keras.models import Sequential\n",
        "from keras.layers import Dense, Flatten, Conv2D, MaxPool2D\n",
        "from keras.optimizers import Adam\n",
        "from sklearn.model_selection import train_test_split"
      ]
    },
    {
      "cell_type": "code",
      "execution_count": null,
      "metadata": {
        "id": "NEqet5l0bB7a"
      },
      "outputs": [],
      "source": [
        "# Read data\n",
        "dataset = pd.read_csv(\"/content/drive/My Drive/Colab Notebooks/HandwrittenData.csv\").astype('float32')\n",
        "x = dataset.drop('0', axis = 1)\n",
        "y = dataset['0']\n"
      ]
    },
    {
      "cell_type": "code",
      "execution_count": null,
      "metadata": {
        "colab": {
          "base_uri": "https://localhost:8080/"
        },
        "id": "qQy4sxiZkf3l",
        "outputId": "713e422b-e2c8-41e7-8ea0-7e219f84ada4"
      },
      "outputs": [
        {
          "name": "stdout",
          "output_type": "stream",
          "text": [
            "Train data shape:  (260715, 28, 28)\n",
            "Test data shape:  (55868, 28, 28)\n"
          ]
        }
      ],
      "source": [
        "# Reshape data - can be displayed as img\n",
        "x = np.reshape(x.values, (x.shape[0], 28,28))\n",
        "\n",
        "# Split data\n",
        "x_train, x_val_test, y_train, y_val_test = train_test_split(x, y, test_size = 0.3)\n",
        "x_val, x_test, y_val, y_test = train_test_split(x_val_test, y_val_test, test_size = 0.5)\n",
        "\n",
        "print(\"Train data shape: \", x_train.shape)\n",
        "print(\"Test data shape: \", x_test.shape)"
      ]
    },
    {
      "cell_type": "code",
      "execution_count": null,
      "metadata": {
        "id": "eWlfi6UztXrm"
      },
      "outputs": [],
      "source": [
        "# Classes labels\n",
        "classes = ['a', 'b', 'c', 'd', 'e', 'f', 'g', 'h', 'i', 'j', 'k', 'l', 'm', 'n', 'o', 'p', 'q', 'r', 's', 't', 'u', 'v', 'w', 'x', 'y', 'z']"
      ]
    },
    {
      "cell_type": "code",
      "execution_count": null,
      "metadata": {
        "colab": {
          "base_uri": "https://localhost:8080/",
          "height": 282
        },
        "id": "eaaefR3XmG83",
        "outputId": "a584d528-a3ae-447c-8e38-248cfb793e23"
      },
      "outputs": [
        {
          "name": "stdout",
          "output_type": "stream",
          "text": [
            "n\n"
          ]
        },
        {
          "data": {
            "image/png": "[encoded data removed]",
            "text/plain": [
              "<Figure size 432x288 with 1 Axes>"
            ]
          },
          "metadata": {
            "needs_background": "light"
          },
          "output_type": "display_data"
        }
      ],
      "source": [
        "# Show image\n",
        "plt.imshow(x_train[0], cmap='gray_r')\n",
        "label = int(y_train.iloc[0])\n",
        "# print(y_train.shape)\n",
        "print(classes[label])"
      ]
    },
    {
      "cell_type": "code",
      "execution_count": null,
      "metadata": {
        "colab": {
          "base_uri": "https://localhost:8080/"
        },
        "id": "kKkZ1fQzq1Sl",
        "outputId": "53c5d150-2ffe-40bf-aea4-ecb3f405f4ac"
      },
      "outputs": [
        {
          "name": "stdout",
          "output_type": "stream",
          "text": [
            "New shape of train data:  (260715, 28, 28, 1)\n",
            "New shape of val data:  (55867, 28, 28, 1)\n",
            "New shape of test data:  (55868, 28, 28, 1)\n",
            "New shape of train labels:  (260715, 26)\n",
            "New shape of val labels:  (55867, 26)\n",
            "New shape of test labels:  (55868, 26)\n",
            "shape test (28, 28, 1)\n"
          ]
        }
      ],
      "source": [
        "# Prepare loader - Reshape data - can be put in the model\n",
        "X_train = x_train.reshape(x_train.shape[0], x_train.shape[1], x_train.shape[2], 1)\n",
        "print(\"New shape of train data: \", X_train.shape)\n",
        "\n",
        "X_val = x_val.reshape(x_val.shape[0], x_val.shape[1], x_val.shape[2], 1)\n",
        "print(\"New shape of val data: \", X_val.shape)\n",
        "\n",
        "X_test = x_test.reshape(x_test.shape[0], x_test.shape[1], x_test.shape[2], 1)\n",
        "print(\"New shape of test data: \", X_test.shape)\n",
        "\n",
        "Y_train = to_categorical(y_train, num_classes=26, dtype='int')\n",
        "print(\"New shape of train labels: \", Y_train.shape)\n",
        "\n",
        "Y_val = to_categorical(y_val, num_classes=26, dtype='int')\n",
        "print(\"New shape of val labels: \", Y_val.shape)\n",
        "\n",
        "Y_test = to_categorical(y_test, num_classes=26, dtype='int')\n",
        "print(\"New shape of test labels: \", Y_test.shape)\n",
        "\n",
        "print(\"shape test\", X_test[0].shape)"
      ]
    },
    {
      "cell_type": "code",
      "execution_count": null,
      "metadata": {
        "id": "pxst_uUathWv"
      },
      "outputs": [],
      "source": [
        "# Create model\n",
        "model = Sequential()\n",
        "\n",
        "model.add(Conv2D(filters=32, kernel_size=(3,3), activation='relu', input_shape = (28,28,1)))\n",
        "model.add(MaxPool2D(pool_size=(2,2), strides=2))\n",
        "\n",
        "model.add(Conv2D(filters=64, kernel_size=(3,3), activation='relu', padding = 'same'))\n",
        "model.add(MaxPool2D(pool_size=(2,2), strides=2))\n",
        "\n",
        "model.add(Conv2D(filters=128, kernel_size=(3,3), activation='relu', padding = 'valid'))\n",
        "model.add(MaxPool2D(pool_size=(2,2), strides=2))\n",
        "\n",
        "model.add(Flatten())\n",
        "\n",
        "model.add(Dense(64,activation =\"relu\"))\n",
        "model.add(Dense(128,activation =\"relu\"))\n",
        "\n",
        "model.add(Dense(26,activation =\"softmax\"))"
      ]
    },
    {
      "cell_type": "code",
      "execution_count": null,
      "metadata": {
        "colab": {
          "base_uri": "https://localhost:8080/"
        },
        "id": "wGkObl7qwOCM",
        "outputId": "69798d33-3e8d-4e81-c5d1-55a0c7fe6c07"
      },
      "outputs": [
        {
          "name": "stdout",
          "output_type": "stream",
          "text": [
            "8148/8148 [==============================] - 44s 4ms/step - loss: 0.1625 - accuracy: 0.9559 - val_loss: 0.0710 - val_accuracy: 0.9802\n"
          ]
        }
      ],
      "source": [
        "# Compile and fit model\n",
        "model.compile(optimizer = Adam(learning_rate=0.001), loss='categorical_crossentropy', metrics=['accuracy'])\n",
        "\n",
        "history = model.fit(X_train, Y_train, epochs=1,  validation_data = (X_val,Y_val))"
      ]
    },
    {
      "cell_type": "code",
      "execution_count": null,
      "metadata": {
        "colab": {
          "base_uri": "https://localhost:8080/"
        },
        "id": "5HBl36haySQx",
        "outputId": "d38f2bed-35cb-45da-fb6f-6201971de687"
      },
      "outputs": [
        {
          "name": "stdout",
          "output_type": "stream",
          "text": [
            "Model: \"sequential\"\n",
            "_________________________________________________________________\n",
            " Layer (type)                Output Shape              Param #   \n",
            "=================================================================\n",
            " conv2d (Conv2D)             (None, 26, 26, 32)        320       \n",
            "                                                                 \n",
            " max_pooling2d (MaxPooling2D  (None, 13, 13, 32)       0         \n",
            " )                                                               \n",
            "                                                                 \n",
            " conv2d_1 (Conv2D)           (None, 13, 13, 64)        18496     \n",
            "                                                                 \n",
            " max_pooling2d_1 (MaxPooling  (None, 6, 6, 64)         0         \n",
            " 2D)                                                             \n",
            "                                                                 \n",
            " conv2d_2 (Conv2D)           (None, 4, 4, 128)         73856     \n",
            "                                                                 \n",
            " max_pooling2d_2 (MaxPooling  (None, 2, 2, 128)        0         \n",
            " 2D)                                                             \n",
            "                                                                 \n",
            " flatten (Flatten)           (None, 512)               0         \n",
            "                                                                 \n",
            " dense (Dense)               (None, 64)                32832     \n",
            "                                                                 \n",
            " dense_1 (Dense)             (None, 128)               8320      \n",
            "                                                                 \n",
            " dense_2 (Dense)             (None, 26)                3354      \n",
            "                                                                 \n",
            "=================================================================\n",
            "Total params: 137,178\n",
            "Trainable params: 137,178\n",
            "Non-trainable params: 0\n",
            "_________________________________________________________________\n"
          ]
        }
      ],
      "source": [
        "# Save model\n",
        "model.summary()\n",
        "model.save('modelHandwritten.h5')"
      ]
    },
    {
      "cell_type": "code",
      "execution_count": null,
      "metadata": {
        "colab": {
          "base_uri": "https://localhost:8080/"
        },
        "id": "UcqlKSvezEAR",
        "outputId": "828d26af-2e58-40d5-9707-492edbc09731"
      },
      "outputs": [
        {
          "data": {
            "text/plain": [
              "{'loss': [0.16247855126857758],\n",
              " 'accuracy': [0.9559403657913208],\n",
              " 'val_loss': [0.07095833122730255],\n",
              " 'val_accuracy': [0.9802029728889465]}"
            ]
          },
          "execution_count": 13,
          "metadata": {},
          "output_type": "execute_result"
        }
      ],
      "source": [
        "history.history"
      ]
    },
    {
      "cell_type": "code",
      "execution_count": null,
      "metadata": {
        "id": "g3SAIX6lzW3g"
      },
      "outputs": [],
      "source": [
        "# Prepare data test\n",
        "def prepare_datatest(data):\n",
        "  result = data.reshape(1, data.shape[0], data.shape[1], data.shape[2])\n",
        "  return result\n",
        "\n",
        "# Process data after testing\n",
        "def class_predict(data):\n",
        "  res = np.where(data == np.amax(data))\n",
        "  index = int(res[1])\n",
        "  return classes[index]\n",
        "\n",
        "# Test model\n",
        "def test_model(datatest, label):\n",
        "  img = datatest.reshape(datatest.shape[0], datatest.shape[1])\n",
        "  pred = model.predict(prepare_datatest(datatest))\n",
        "  plt.imshow(img, cmap='gray_r')\n",
        "  print(\"Model predict:\", class_predict(pred))\n",
        "  print(\"Value test:\", classes[int(label)])\n",
        "  msg = \"Accurate prediction!\" if class_predict(pred) == classes[int(label)] else \"Wrong prediction!\" \n",
        "  print(msg)\n",
        "\n"
      ]
    },
    {
      "cell_type": "code",
      "execution_count": null,
      "metadata": {
        "colab": {
          "base_uri": "https://localhost:8080/",
          "height": 334
        },
        "id": "THPg7SI9UHTj",
        "outputId": "fb9bcc28-092f-4e05-b559-84b4ffd14478"
      },
      "outputs": [
        {
          "name": "stdout",
          "output_type": "stream",
          "text": [
            "1/1 [==============================] - 0s 140ms/step\n",
            "Model predict: o\n",
            "Value test: o\n",
            "Accurate prediction!\n"
          ]
        },
        {
          "data": {
            "image/png": "[encoded data removed]",
            "text/plain": [
              "<Figure size 432x288 with 1 Axes>"
            ]
          },
          "metadata": {
            "needs_background": "light"
          },
          "output_type": "display_data"
        }
      ],
      "source": [
        "test_model(X_test[0], y_test.iloc[0])"
      ]
    }
  ],
  "metadata": {
    "accelerator": "GPU",
    "colab": {
      "provenance": []
    },
    "gpuClass": "standard",
    "kernelspec": {
      "display_name": "Python 3",
      "name": "python3"
    },
    "language_info": {
      "name": "python"
    }
  },
  "nbformat": 4,
  "nbformat_minor": 0
}
